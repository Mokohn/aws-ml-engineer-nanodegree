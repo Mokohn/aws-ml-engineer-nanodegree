{
 "cells": [
  {
   "cell_type": "markdown",
   "id": "ceb62ded",
   "metadata": {},
   "source": [
    "# UDACITY Demo - Step Functions"
   ]
  },
  {
   "cell_type": "code",
   "execution_count": 1,
   "id": "4238a462",
   "metadata": {},
   "outputs": [],
   "source": [
    "import boto3\n",
    "from sagemaker import get_execution_role\n",
    "\n",
    "client = boto3.client('stepfunctions')\n",
    "\n",
    "# Definitions are unweildly and also not valid python objects. Consider also using the Step interface\n",
    "# for the services you wish to invoke, or just constructing a Step Function through the UI \n",
    "# and pasting the definition that is automatically generated. \n",
    "\n",
    "definition = \"\"\"{\n",
    "  \"Comment\": \"A Hello World example of the Amazon States Language.\",\n",
    "  \"StartAt\": \"Lambda Invoke (First)\", \n",
    "  \"States\": {\n",
    "    \"Lambda Invoke (First)\": {\n",
    "      \"Type\": \"Task\",\n",
    "      \"Resource\": \"arn:aws:states:::lambda:invoke\",\n",
    "      \"OutputPath\": \"$.Payload\",\n",
    "      \"Parameters\": {\n",
    "        \"Payload.$\": \"$\",\n",
    "        \"FunctionName\": \"arn:aws:lambda:us-west-2:565094796913:function:example123:$LATEST\"\n",
    "      },\n",
    "      \"Retry\": [\n",
    "        {\n",
    "          \"ErrorEquals\": [\n",
    "            \"Lambda.ServiceException\",\n",
    "            \"Lambda.AWSLambdaException\",\n",
    "            \"Lambda.SdkClientException\"\n",
    "          ],\n",
    "          \"IntervalSeconds\": 2,\n",
    "          \"MaxAttempts\": 6,\n",
    "          \"BackoffRate\": 2\n",
    "        }\n",
    "      ],\n",
    "      \"Next\": \"Lambda Invoke (Second)\"\n",
    "    },\n",
    "    \"Lambda Invoke (Second)\": {\n",
    "      \"Type\": \"Task\",\n",
    "      \"Resource\": \"arn:aws:states:::lambda:invoke\",\n",
    "      \"OutputPath\": \"$.Payload\",\n",
    "      \"Parameters\": {\n",
    "        \"Payload.$\": \"$\",\n",
    "        \"FunctionName\": \"arn:aws:lambda:us-west-2:565094796913:function:example123:$LATEST\"\n",
    "      },\n",
    "      \"Retry\": [\n",
    "        {\n",
    "          \"ErrorEquals\": [\n",
    "            \"Lambda.ServiceException\",\n",
    "            \"Lambda.AWSLambdaException\",\n",
    "            \"Lambda.SdkClientException\"\n",
    "          ],\n",
    "          \"IntervalSeconds\": 2,\n",
    "          \"MaxAttempts\": 6,\n",
    "          \"BackoffRate\": 2\n",
    "        }\n",
    "      ],\n",
    "      \"End\": true\n",
    "    }\n",
    "  }\n",
    "}\n",
    "\"\"\""
   ]
  },
  {
   "cell_type": "code",
   "execution_count": 4,
   "id": "825bb38c",
   "metadata": {},
   "outputs": [
    {
     "name": "stdout",
     "output_type": "stream",
     "text": [
      "{'stateMachineArn': 'arn:aws:states:us-east-1:419056005463:stateMachine:lesson3-lecture4-boto3StateMachine', 'creationDate': datetime.datetime(2022, 5, 28, 12, 27, 19, 724000, tzinfo=tzlocal()), 'ResponseMetadata': {'RequestId': '11470b28-f1df-4dfa-b457-6d57b51b10c0', 'HTTPStatusCode': 200, 'HTTPHeaders': {'x-amzn-requestid': '11470b28-f1df-4dfa-b457-6d57b51b10c0', 'date': 'Sat, 28 May 2022 10:27:19 GMT', 'content-type': 'application/x-amz-json-1.0', 'content-length': '139'}, 'RetryAttempts': 0}}\n"
     ]
    }
   ],
   "source": [
    "# Your SageMaker execution role needs to have both StepFunctions permission and IAM permission. This\n",
    "# is seperate from the role passed in through 'roleArn' (You need IAM permissions specifically because\n",
    "# you are handling other roles.) The roleArn that's passed into the state machine needs to have permissions\n",
    "# to the services it's invoking. In this case, these are Lambda permissions. \n",
    "\n",
    "response = client.create_state_machine(\n",
    "    name='lesson3-lecture4-boto3StateMachine', # Names need to be unique. \n",
    "    definition=definition,\n",
    "    roleArn='arn:aws:iam::419056005463:role/service-role/StepFunctions-HelloWorld-role-94cbb165',\n",
    "    type='STANDARD',\n",
    "    loggingConfiguration={\n",
    "        'level': 'OFF'\n",
    "    }\n",
    ")\n",
    "print(response)"
   ]
  },
  {
   "cell_type": "code",
   "execution_count": 6,
   "id": "e9d45764",
   "metadata": {},
   "outputs": [],
   "source": [
    "response = client.start_execution(\n",
    "    stateMachineArn='arn:aws:states:us-east-1:419056005463:stateMachine:lesson3-lecture4-boto3StateMachine', # You can find this through the Console or through the 'response' object. \n",
    "    name='example-execution', # Execution names need to be unique within state machines. \n",
    "    input='{}' # Input needs to be at least empty brackets. \n",
    ")"
   ]
  },
  {
   "cell_type": "code",
   "execution_count": 7,
   "id": "29dda400-a003-48ae-9a6a-84014595c30a",
   "metadata": {},
   "outputs": [
    {
     "name": "stdout",
     "output_type": "stream",
     "text": [
      "{'executionArn': 'arn:aws:states:us-east-1:419056005463:execution:lesson3-lecture4-boto3StateMachine:example-execution', 'startDate': datetime.datetime(2022, 5, 28, 12, 28, 18, 144000, tzinfo=tzlocal()), 'ResponseMetadata': {'RequestId': '19666db8-67d7-494e-8b4a-14cb2e318914', 'HTTPStatusCode': 200, 'HTTPHeaders': {'x-amzn-requestid': '19666db8-67d7-494e-8b4a-14cb2e318914', 'date': 'Sat, 28 May 2022 10:28:18 GMT', 'content-type': 'application/x-amz-json-1.0', 'content-length': '148'}, 'RetryAttempts': 0}}\n"
     ]
    }
   ],
   "source": [
    "print(response)"
   ]
  },
  {
   "cell_type": "code",
   "execution_count": null,
   "id": "e618541b-c7ce-45d5-8cb3-0a04fe8139ea",
   "metadata": {},
   "outputs": [],
   "source": []
  },
  {
   "cell_type": "markdown",
   "id": "63f683c8-1447-4095-a7cd-dd53a1e23100",
   "metadata": {},
   "source": [
    "**The execution of the state-machine is not successful, because the lambda-functions used need to be genereated in the personal environment.**"
   ]
  },
  {
   "cell_type": "code",
   "execution_count": null,
   "id": "9b561e37-4826-4a5e-87fb-8e667d9e4e31",
   "metadata": {},
   "outputs": [],
   "source": []
  }
 ],
 "metadata": {
  "kernelspec": {
   "display_name": "Python 3 (ipykernel)",
   "language": "python",
   "name": "python3"
  },
  "language_info": {
   "codemirror_mode": {
    "name": "ipython",
    "version": 3
   },
   "file_extension": ".py",
   "mimetype": "text/x-python",
   "name": "python",
   "nbconvert_exporter": "python",
   "pygments_lexer": "ipython3",
   "version": "3.9.5"
  }
 },
 "nbformat": 4,
 "nbformat_minor": 5
}
